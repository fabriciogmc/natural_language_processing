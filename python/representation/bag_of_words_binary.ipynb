{
 "cells": [
  {
   "cell_type": "code",
   "execution_count": 3,
   "id": "b198f98e-18cc-4d79-b451-c507d9c38046",
   "metadata": {},
   "outputs": [
    {
     "name": "stdout",
     "output_type": "stream",
     "text": [
      "Léxico da representação:  ['a', 'ajuda', 'ajudar', 'atendimento', 'bom', 'como', 'confuso', 'confusão', 'consigo', 'de', 'desejo', 'encerrar', 'estou', 'favor', 'gostaria', 'há', 'mais', 'mau', 'me', 'não', 'obter', 'opção', 'outra', 'poderia', 'por', 'qual', 'sei']\n",
      "\n",
      "\n",
      "Binary bag of words vector:  [0. 1. 0. 0. 0. 0. 0. 0. 0. 1. 0. 0. 0. 0. 1. 0. 0. 0. 0. 0. 1. 0. 0. 0.\n",
      " 0. 0. 0.]\n",
      "\n",
      "\n",
      "             occurrence\n",
      "a                   0.0\n",
      "ajuda               1.0\n",
      "ajudar              0.0\n",
      "atendimento         0.0\n",
      "bom                 0.0\n",
      "como                0.0\n",
      "confuso             0.0\n",
      "confusão            0.0\n",
      "consigo             0.0\n",
      "de                  1.0\n",
      "desejo              0.0\n",
      "encerrar            0.0\n",
      "estou               0.0\n",
      "favor               0.0\n",
      "gostaria            1.0\n",
      "há                  0.0\n",
      "mais                0.0\n",
      "mau                 0.0\n",
      "me                  0.0\n",
      "não                 0.0\n",
      "obter               1.0\n",
      "opção               0.0\n",
      "outra               0.0\n",
      "poderia             0.0\n",
      "por                 0.0\n",
      "qual                0.0\n",
      "sei                 0.0\n",
      "\n",
      "\n",
      "Word frequency for \"ajuda\":  1.0\n"
     ]
    }
   ],
   "source": [
    "'''\n",
    "Basic binary bag of words representation example.\n",
    "\n",
    "Author: Fabrício Galende Marques de Carvalho\n",
    "\n",
    "'''\n",
    "import numpy as np\n",
    "import pandas as pd\n",
    "\n",
    "representation_lexicon = ['a', 'ajuda', 'ajudar', 'confusão', 'bom', 'mau', \n",
    "                 'atendimento', 'como', 'confuso', \n",
    "                 'consigo', 'de', 'desejo', 'encerrar', \n",
    "                 'estou', 'favor', 'gostaria', 'há', 'mais',\n",
    "                   'me', 'não', 'obter', 'opção', 'outra', 'poderia', \n",
    "                   'por', 'qual', 'sei']\n",
    "representation_lexicon.sort()\n",
    "print(\"Representation lexicon: \", representation_lexicon)\n",
    "\n",
    "sentence = \"gostaria de obter ajuda\" # raw sentence example, without any preprocessing\n",
    "word_tokens = sentence.split() ## replace by some tokenizer output\n",
    "\n",
    "binary_bag_of_words = np.zeros(len(representation_lexicon))\n",
    "for pos in range(len(representation_lexicon)):\n",
    "    for word in word_tokens:\n",
    "        if word == representation_lexicon[pos]:\n",
    "            binary_bag_of_words[pos] = 1\n",
    "print(\"\\n\")\n",
    "print(\"Binary bag of words vector: \", binary_bag_of_words)\n",
    "\n",
    "representation_data_frame = pd.DataFrame(data = binary_bag_of_words, index = representation_lexicon, columns=[\"occurrence\"])\n",
    "print(\"\\n\")\n",
    "print(representation_data_frame)\n",
    "\n",
    "print('\\n')\n",
    "print('Word frequency for \"ajuda\": ', representation_data_frame.loc[\"ajuda\", 'occurrence'])\n"
   ]
  },
  {
   "cell_type": "code",
   "execution_count": null,
   "id": "30a6b902-ea30-4eb1-9161-f121caa08e70",
   "metadata": {},
   "outputs": [],
   "source": []
  }
 ],
 "metadata": {
  "kernelspec": {
   "display_name": "NLP",
   "language": "python",
   "name": "natural_language_processing"
  },
  "language_info": {
   "codemirror_mode": {
    "name": "ipython",
    "version": 3
   },
   "file_extension": ".py",
   "mimetype": "text/x-python",
   "name": "python",
   "nbconvert_exporter": "python",
   "pygments_lexer": "ipython3",
   "version": "3.10.12"
  }
 },
 "nbformat": 4,
 "nbformat_minor": 5
}
