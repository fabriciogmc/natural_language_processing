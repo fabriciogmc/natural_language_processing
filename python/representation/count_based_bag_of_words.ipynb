{
 "cells": [
  {
   "cell_type": "code",
   "execution_count": 3,
   "id": "4a33cd2d-63b3-48e6-89fe-45868b9f626c",
   "metadata": {},
   "outputs": [
    {
     "name": "stdout",
     "output_type": "stream",
     "text": [
      "[0. 2. 0. 0. 0. 0. 0. 0. 0. 0. 1. 0. 0. 0. 0. 1. 0. 0. 0. 0. 1. 0. 0. 0.\n",
      " 0. 0. 0. 1. 1.]\n",
      "\n",
      "\n",
      "Representation using count based bag of words: \n",
      "             frequency\n",
      "a                  0.0\n",
      "ajuda              2.0\n",
      "ajudar             0.0\n",
      "confusão           0.0\n",
      "bom                0.0\n",
      "mau                0.0\n",
      "atendimento        0.0\n",
      "como               0.0\n",
      "confuso            0.0\n",
      "consigo            0.0\n",
      "de                 1.0\n",
      "desejo             0.0\n",
      "encerrar           0.0\n",
      "estou              0.0\n",
      "favor              0.0\n",
      "gostaria           1.0\n",
      "há                 0.0\n",
      "mais               0.0\n",
      "me                 0.0\n",
      "não                0.0\n",
      "obter              1.0\n",
      "opção              0.0\n",
      "outra              0.0\n",
      "poderia            0.0\n",
      "por                0.0\n",
      "qual               0.0\n",
      "sei                0.0\n",
      "é                  1.0\n",
      "essa               1.0\n",
      "\n",
      "\n",
      "Frequency count for \"ajuda\":  2.0\n"
     ]
    }
   ],
   "source": [
    "'''\n",
    "Count based bag of words representation.\n",
    "In this representation, word occurrence frequency is used\n",
    "to build the vector representation.\n",
    "\n",
    "Author: Fabrício Galende M. de Carvalho, DSc\n",
    "'''\n",
    "\n",
    "import numpy as np\n",
    "import pandas as pd\n",
    "representation_lexicon = ['a', 'ajuda', 'ajudar', 'confusão', 'bom', 'mau', \n",
    "                 'atendimento', 'como', 'confuso', \n",
    "                 'consigo', 'de', 'desejo', 'encerrar', \n",
    "                 'estou', 'favor', 'gostaria', 'há', 'mais',\n",
    "                   'me', 'não', 'obter', 'opção', 'outra', 'poderia', \n",
    "                   'por', 'qual', 'sei', 'é', 'essa']\n",
    "\n",
    "sentence = \"gostaria de obter ajuda e essa ajuda é importante\" # raw sentence example, without any preprocessing\n",
    "word_tokens = sentence.split() ## replace by some tokenizer output\n",
    "\n",
    "count_based_bag_of_words = np.zeros(len(representation_lexicon))\n",
    "\n",
    "for pos in range(len(representation_lexicon)):\n",
    "    for word in word_tokens:\n",
    "        if word == representation_lexicon[pos]:\n",
    "            count_based_bag_of_words[pos] += 1\n",
    "\n",
    "representation_data_frame = pd.DataFrame(data = count_based_bag_of_words, index = representation_lexicon, columns=[\"frequency\"])\n",
    "print(count_based_bag_of_words)\n",
    "print(\"\\n\")\n",
    "print(\"Representation using count based bag of words: \")\n",
    "print(representation_data_frame)\n",
    "print(\"\\n\")\n",
    "print('Frequency count for \"ajuda\": ', representation_data_frame.loc[\"ajuda\",\"frequency\"])"
   ]
  },
  {
   "cell_type": "code",
   "execution_count": null,
   "id": "a65ce874-8ce2-4d5f-9d1d-c40ae4797165",
   "metadata": {},
   "outputs": [],
   "source": []
  }
 ],
 "metadata": {
  "kernelspec": {
   "display_name": "NLP",
   "language": "python",
   "name": "natural_language_processing"
  },
  "language_info": {
   "codemirror_mode": {
    "name": "ipython",
    "version": 3
   },
   "file_extension": ".py",
   "mimetype": "text/x-python",
   "name": "python",
   "nbconvert_exporter": "python",
   "pygments_lexer": "ipython3",
   "version": "3.10.12"
  }
 },
 "nbformat": 4,
 "nbformat_minor": 5
}
