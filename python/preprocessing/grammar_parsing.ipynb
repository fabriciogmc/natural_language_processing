{
 "cells": [
  {
   "cell_type": "code",
   "execution_count": 1,
   "id": "9ad717b2-fcb2-4f93-b0d5-19d26e08395b",
   "metadata": {},
   "outputs": [
    {
     "name": "stdout",
     "output_type": "stream",
     "text": [
      "[{'sentence': 'O produto chegou quebrado', 'subject': 'O produto', 'verb': 'chegou', 'object_predicate': 'quebrado'}]\n",
      "[{'sentence': 'A entrega foi feita com atraso.', 'subject': 'A entrega', 'verb': 'feita', 'object_predicate': 'com atraso'}]\n",
      "[{'sentence': 'Os valores das ações despencaram no último pregão.', 'subject': 'Os valores das ações', 'verb': 'despencaram', 'object_predicate': 'no último pregão'}]\n",
      "[{'sentence': 'Eu não gostei do computador.', 'subject': 'Eu', 'verb': 'gostei', 'object_predicate': 'do computador'}]\n",
      "[{'sentence': 'A entrega foi feita no prazo.', 'subject': 'A entrega', 'verb': 'feita', 'object_predicate': 'no prazo'}]\n"
     ]
    }
   ],
   "source": [
    "# Basic sentence parsing using spacy. \n",
    "# The example shown in this notebook is based on \n",
    "# dependency parsing. For each token, we examine its \n",
    "# children in the dependency tree (created by spacy)”\n",
    "#\n",
    "# Author Fabrício Galende Marques de Carvalho\n",
    "##\n",
    "\n",
    "\n",
    "import spacy\n",
    "\n",
    "# spacy portuguese model loading\n",
    "nlp = spacy.load(\"pt_core_news_sm\")\n",
    "\n",
    "# review list\n",
    "reviews = [\n",
    "    \"O produto chegou quebrado\",\n",
    "    \"A entrega foi feita com atraso.\",\n",
    "    \"Os valores das ações despencaram no último pregão.\",\n",
    "    \"Eu não gostei do computador.\",\n",
    "    \"A entrega foi feita no prazo.\"\n",
    "]\n",
    "# Sentence parts extraction\n",
    "def extract_subject_verb_object(sentence):\n",
    "    doc = nlp(sentence)\n",
    "    results = []\n",
    "    \n",
    "    for sent in doc.sents:\n",
    "        subject = []\n",
    "        verb = []\n",
    "        object_ = []\n",
    "\n",
    "        for token in sent:\n",
    "            if token.pos_ == \"VERB\":\n",
    "                verb.append(token.text)\n",
    "                for child in token.children:\n",
    "                    # Subject\n",
    "                    if child.dep_ in (\"nsubj\", \"nsubj:pass\"):\n",
    "                        subject.append(\" \".join([t.text for t in child.subtree]))\n",
    "                    # Direct or indirect object \n",
    "                    if child.dep_ in (\"obj\", \"iobj\", \"obl\"):\n",
    "                        object_.append(\" \".join([t.text for t in child.subtree]))\n",
    "                    # auxiliary verbs \n",
    "                    if child.dep_ in (\"xcomp\", \"acomp\"):\n",
    "                        object_.append(\" \".join([t.text for t in child.subtree]))\n",
    "        \n",
    "        subject = \" \".join(set(subject)) if subject else None\n",
    "        verb = \" \".join(set(verb)) if verb else None\n",
    "        object_ = \" \".join(set(object_)) if object_ else None\n",
    "\n",
    "        results.append({\n",
    "            \"sentence\": sent.text,\n",
    "            \"subject\": subject,\n",
    "            \"verb\": verb,\n",
    "            \"object_predicate\": object_\n",
    "        })\n",
    "    return results\n",
    "\n",
    "for review in reviews:\n",
    "    tokens = nlp(review)  \n",
    "    svo = extract_subject_verb_object(review)\n",
    "    print(svo)\n",
    "\n",
    "\n"
   ]
  },
  {
   "cell_type": "code",
   "execution_count": null,
   "id": "52ae41a0-b299-4357-b0a4-908074cea232",
   "metadata": {},
   "outputs": [],
   "source": []
  }
 ],
 "metadata": {
  "kernelspec": {
   "display_name": "Python 3 (ipykernel)",
   "language": "python",
   "name": "python3"
  },
  "language_info": {
   "codemirror_mode": {
    "name": "ipython",
    "version": 3
   },
   "file_extension": ".py",
   "mimetype": "text/x-python",
   "name": "python",
   "nbconvert_exporter": "python",
   "pygments_lexer": "ipython3",
   "version": "3.12.3"
  }
 },
 "nbformat": 4,
 "nbformat_minor": 5
}
