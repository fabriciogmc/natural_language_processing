{
 "cells": [
  {
   "cell_type": "code",
   "execution_count": 62,
   "id": "082ab96b-084f-423d-b0ed-f5b16e2b01cd",
   "metadata": {},
   "outputs": [
    {
     "name": "stdout",
     "output_type": "stream",
     "text": [
      "['product', 'Probably']\n",
      "[' This is a paragraph! ']\n"
     ]
    }
   ],
   "source": [
    "# In this example regular expressions are used to extract \n",
    "# language data from HTML marked raw text\n",
    "#\n",
    "# Author: Fabrício Galende Marques de Carvalho\n",
    "\n",
    "import re\n",
    "\n",
    "\n",
    "raw_text = \"The product is good! I will Probably buy it again.\"\n",
    "marked_text = \"<p> This is a paragraph! </p>\"\n",
    "print(re.findall(r'[pP]ro.*?\\b', raw_text)) # [ ] character disjunction (or)\n",
    "print(re.findall(r'<p>(.*?)</p>', marked_text))\n"
   ]
  },
  {
   "cell_type": "code",
   "execution_count": 63,
   "id": "10a00da1-e0c4-4f11-b312-cdd6dae6de7c",
   "metadata": {},
   "outputs": [
    {
     "name": "stdout",
     "output_type": "stream",
     "text": [
      "['The product is \\ngood!', 'It was delivered on time.   ', 'Definetely I will buy it again! ', 'Thanks folks! ', ' This content is not well structured ']\n"
     ]
    }
   ],
   "source": [
    "# Request response models a simple http request raw response. \n",
    "request_response_text = '''\n",
    "<body>\n",
    "<p>The product is \n",
    "good!</p>\n",
    "<p>It was delivered on time.   </p>\n",
    "<p>Definetely I will buy it again! </p>\n",
    "<script> var x = 1; </script>\n",
    "<iframe> contents... </iframe>\n",
    "<p>Thanks folks! </p>\n",
    "<div> This content is not well structured </div>\n",
    "</body>\n",
    "'''\n",
    "\n",
    "regex_expression = r'<(?:p|div)>(.*?)</(?:p|div)>'\n",
    "extracted_language_data = re.findall(regex_expression, request_response_text, flags=re.DOTALL) #captures \\n\n",
    "print(extracted_language_data)"
   ]
  },
  {
   "cell_type": "code",
   "execution_count": null,
   "id": "1585070f-8d28-476d-86e5-3bb813b67a92",
   "metadata": {},
   "outputs": [],
   "source": []
  }
 ],
 "metadata": {
  "kernelspec": {
   "display_name": "NLP",
   "language": "python",
   "name": "natural_language_processing"
  },
  "language_info": {
   "codemirror_mode": {
    "name": "ipython",
    "version": 3
   },
   "file_extension": ".py",
   "mimetype": "text/x-python",
   "name": "python",
   "nbconvert_exporter": "python",
   "pygments_lexer": "ipython3",
   "version": "3.10.12"
  }
 },
 "nbformat": 4,
 "nbformat_minor": 5
}
