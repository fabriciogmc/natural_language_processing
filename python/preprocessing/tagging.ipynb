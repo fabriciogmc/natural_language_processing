{
 "cells": [
  {
   "cell_type": "code",
   "execution_count": 13,
   "id": "afcb764b-aaaa-461a-b774-81055d0980fc",
   "metadata": {},
   "outputs": [
    {
     "name": "stdout",
     "output_type": "stream",
     "text": [
      "Original document:  Hoje é um excelente dia para aprender PLN. Meus resultados dependem da minha dedicação!\n",
      "\n",
      "\n",
      "Token text:  ( Hoje ),  Token lemma:  ( hoje ), Token POS TAG: ( ADV )\n",
      "Token text:  ( é ),  Token lemma:  ( ser ), Token POS TAG: ( AUX )\n",
      "Token text:  ( um ),  Token lemma:  ( um ), Token POS TAG: ( DET )\n",
      "Token text:  ( excelente ),  Token lemma:  ( excelente ), Token POS TAG: ( ADJ )\n",
      "Token text:  ( dia ),  Token lemma:  ( dia ), Token POS TAG: ( NOUN )\n",
      "Token text:  ( para ),  Token lemma:  ( para ), Token POS TAG: ( SCONJ )\n",
      "Token text:  ( aprender ),  Token lemma:  ( aprender ), Token POS TAG: ( VERB )\n",
      "Token text:  ( PLN ),  Token lemma:  ( PLN ), Token POS TAG: ( PROPN )\n",
      "Token text:  ( . ),  Token lemma:  ( . ), Token POS TAG: ( PUNCT )\n",
      "Token text:  ( Meus ),  Token lemma:  ( meus ), Token POS TAG: ( DET )\n",
      "Token text:  ( resultados ),  Token lemma:  ( resultado ), Token POS TAG: ( NOUN )\n",
      "Token text:  ( dependem ),  Token lemma:  ( depender ), Token POS TAG: ( VERB )\n",
      "Token text:  ( da ),  Token lemma:  ( de o ), Token POS TAG: ( ADP )\n",
      "Token text:  ( minha ),  Token lemma:  ( meu ), Token POS TAG: ( DET )\n",
      "Token text:  ( dedicação ),  Token lemma:  ( dedicação ), Token POS TAG: ( NOUN )\n",
      "Token text:  ( ! ),  Token lemma:  ( ! ), Token POS TAG: ( PUNCT )\n"
     ]
    }
   ],
   "source": [
    "# Basic POS tagging example\n",
    "#\n",
    "# Author: Fabrício Galende Marques de Carvalho\n",
    "\n",
    "import spacy\n",
    "\n",
    "# Here we load the portuguese small model\n",
    "nlp = spacy.load('pt_core_news_sm')\n",
    "\n",
    "# First we build a document object, which contains a list of word tokens and sentence tokens\n",
    "my_document = nlp(\"Hoje é um excelente dia para aprender PLN. Meus resultados dependem da minha dedicação!\")\n",
    "print(\"Original document: \", my_document)\n",
    "# Now we can access token properties\n",
    "print(\"\\n\")\n",
    "for token in my_document:\n",
    "    print(\"Token text: \", \"(\", token.text, \"), \", \"Token lemma: \", \"(\", token.lemma_,\"),\", \"Token POS TAG:\", \"(\", token.pos_,\")\")\n"
   ]
  },
  {
   "cell_type": "code",
   "execution_count": null,
   "id": "3481917d-b280-47de-ba7c-ab16afc7b14a",
   "metadata": {},
   "outputs": [],
   "source": []
  }
 ],
 "metadata": {
  "kernelspec": {
   "display_name": "Python 3 (ipykernel)",
   "language": "python",
   "name": "python3"
  },
  "language_info": {
   "codemirror_mode": {
    "name": "ipython",
    "version": 3
   },
   "file_extension": ".py",
   "mimetype": "text/x-python",
   "name": "python",
   "nbconvert_exporter": "python",
   "pygments_lexer": "ipython3",
   "version": "3.12.3"
  }
 },
 "nbformat": 4,
 "nbformat_minor": 5
}
