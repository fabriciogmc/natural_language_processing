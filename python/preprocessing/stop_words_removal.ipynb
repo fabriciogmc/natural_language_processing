{
 "cells": [
  {
   "cell_type": "code",
   "execution_count": 8,
   "id": "082d0b08-d9b2-4a1d-bc6c-69824758f358",
   "metadata": {},
   "outputs": [
    {
     "name": "stdout",
     "output_type": "stream",
     "text": [
      "Portuguese stop words:  {'estivéramos', 'estiverem', 'fossem', 'teriam', 'isto', 'nossos', 'tenho', 'aquela', 'das', 'forem', 'teremos', 'tivéramos', 'estiver', 'já', 'estes', 'aquilo', 'estavam', 'fôssemos', 'lhe', 'pelos', 'tem', 'terei', 'fomos', 'um', 'aquelas', 'com', 'nos', 'tive', 'elas', 'esta', 'de', 'esteja', 'houvermos', 'tinham', 'esses', 'dela', 'aquele', 'mais', 'dos', 'isso', 'terão', 'tiveram', 'é', 'hajamos', 'tuas', 'houvessem', 'hão', 'pela', 'houveriam', 'estar', 'ela', 'quem', 'eu', 'também', 'esse', 'delas', 'tivera', 'você', 'houve', 'mesmo', 'qual', 'uma', 'eram', 'num', 'se', 'houvéramos', 'ele', 'às', 'tenhamos', 'estas', 'estivéssemos', 'foram', 'teve', 'vocês', 'meus', 'hajam', 'tiverem', 'meu', 'minhas', 'teríamos', 'estiveram', 'estamos', 'e', 'nossas', 'estivera', 'sua', 'haja', 'depois', 'fora', 'dele', 'esteve', 'teu', 'houveremos', 'tiver', 'vos', 'tínhamos', 'serei', 'estivemos', 'há', 'houvemos', 'temos', 'suas', 'do', 'houverá', 'teus', 'houverei', 'até', 'estivermos', 'seríamos', 'seria', 'houverem', 'hei', 'estivessem', 'no', 'o', 'sejam', 'estive', 'houver', 'da', 'houverão', 'houveria', 'na', 'sejamos', 'pelo', 'for', 'essas', 'este', 'tém', 'sem', 'seja', 'tivesse', 'nem', 'à', 'eles', 'está', 'houveram', 'por', 'essa', 'seus', 'em', 'quando', 'estivesse', 'era', 'estávamos', 'como', 'haver', 'foi', 'te', 'tinha', 'muito', 'houvera', 'me', 'seremos', 'havemos', 'tenha', 'fosse', 'deles', 'as', 'éramos', 'estejamos', 'pelas', 'aos', 'minha', 'ou', 'será', 'tivéssemos', 'nas', 'que', 'tua', 'estava', 'aqueles', 'tivessem', 'ao', 'terá', 'estejam', 'nosso', 'não', 'formos', 'nossa', 'teria', 'estão', 'lhes', 'seriam', 'tenham', 'houveríamos', 'numa', 'somos', 'nós', 'seu', 'são', 'houvéssemos', 'os', 'serão', 'tivermos', 'para', 'fui', 'houvesse', 'sou', 'só', 'a', 'entre', 'tu', 'fôramos', 'mas', 'ser', 'tivemos', 'estou'}\n",
      "Original negative review:  eu não gostei do computador\n",
      "Words list without stop words:  ['gostei', 'computador']\n",
      "Original positive review:  eu gostei do computador\n",
      "Words list without stop words:  ['gostei', 'computador']\n"
     ]
    }
   ],
   "source": [
    "# Basic stop words removal example\n",
    "#\n",
    "# Author: Fabrício Galende Marques de Carvalho\n",
    "##\n",
    "\n",
    "'''\n",
    "Stop words are words that do not aggregate too much meaning\n",
    "in text. These words are very frequent in text corpus.\n",
    "Examples include articles, prepositions, etc.\n",
    "\n",
    "Author: Fabrício Galende M. de Carvalho, DSc\n",
    "\n",
    "'''\n",
    "import nltk\n",
    "\n",
    "default_nltk_word_tokenizer = nltk.word_tokenize\n",
    "\n",
    "\n",
    "\n",
    "sample_negative_review = \"eu não gostei do computador\"\n",
    "sample_positive_review = \"eu gostei do computador\"\n",
    "\n",
    "#print(\"Stop word list: \")\n",
    "stop_words_pt = set(nltk.corpus.stopwords.words('portuguese'))\n",
    "print(\"Portuguese stop words: \", stop_words_pt)\n",
    "\n",
    "\n",
    "def remove_stopwords(text_tokens, stopwords):\n",
    "    return [word for word in text_tokens if word.lower() not in stopwords]\n",
    "\n",
    "words_pt_negative = default_nltk_word_tokenizer(sample_negative_review)\n",
    "words_without_stop_words_negative = remove_stopwords(words_pt_negative, stop_words_pt)\n",
    "print(\"Original negative review: \", sample_negative_review)\n",
    "print(\"Words list without stop words: \", words_without_stop_words_negative)\n",
    "words_pt_positive =  default_nltk_word_tokenizer(sample_positive_review)\n",
    "print(\"Original positive review: \", sample_positive_review)\n",
    "words_without_stop_words_positive = remove_stopwords(words_pt_positive, stop_words_pt)\n",
    "print(\"Words list without stop words: \", words_without_stop_words_positive)\n"
   ]
  },
  {
   "cell_type": "code",
   "execution_count": null,
   "id": "c4d6a972-de25-4aa6-bced-25e604452a20",
   "metadata": {},
   "outputs": [],
   "source": []
  }
 ],
 "metadata": {
  "kernelspec": {
   "display_name": "Python 3 (ipykernel)",
   "language": "python",
   "name": "python3"
  },
  "language_info": {
   "codemirror_mode": {
    "name": "ipython",
    "version": 3
   },
   "file_extension": ".py",
   "mimetype": "text/x-python",
   "name": "python",
   "nbconvert_exporter": "python",
   "pygments_lexer": "ipython3",
   "version": "3.12.3"
  }
 },
 "nbformat": 4,
 "nbformat_minor": 5
}
