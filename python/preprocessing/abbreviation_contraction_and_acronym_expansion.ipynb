{
 "cells": [
  {
   "cell_type": "code",
   "execution_count": 12,
   "id": "e48092cc-f98b-4ccc-9c39-86a23bde6345",
   "metadata": {},
   "outputs": [
    {
     "name": "stdout",
     "output_type": "stream",
     "text": [
      "\n",
      "Input text:  O senhor joão deixou de trabalhar na Sistemas LTDA para ficar o dia todo sem fazer nda, só dorme e bebe um copo d'água a cada três horas\n",
      "\n",
      "\n",
      "Output text:  O senhor joão deixou de trabalhar na Sistemas Limitada para ficar o dia todo sem fazer nada, só dorme e bebe um copo de água a cada três horas\n"
     ]
    }
   ],
   "source": [
    "# Acronyms, abbreviations and contractions expansion example\n",
    "#\n",
    "# Author: Fabrício Galende M. de Carvalho\n",
    "##\n",
    "\n",
    "import re\n",
    "\n",
    "# Here you define your contraction, abbreviation and other similar\n",
    "# maps.\n",
    "MAP = {\n",
    "    'LTDA': 'limitada',\n",
    "    'nda': 'nada',\n",
    "    \"d'água\": 'de água' \n",
    "}\n",
    "\n",
    "def expand_abbreviations_and_contractions(text, contraction_mapping):\n",
    "    ''' \n",
    "    This function expands contractions, abbreviations, etc\n",
    "    '''\n",
    "    contractions_pattern = re.compile('({})'.format('|'.join(contraction_mapping.keys())), \n",
    "                                      flags=re.IGNORECASE|re.DOTALL)\n",
    "    def expand_match(contraction):\n",
    "        match = contraction.group(0)\n",
    "        first_char = match[0]\n",
    "        expanded_contraction = contraction_mapping.get(match) if contraction_mapping.get(match) else contraction_mapping.get(match.lower())                       \n",
    "        expanded_contraction = first_char+expanded_contraction[1:]\n",
    "        return expanded_contraction\n",
    "        \n",
    "    expanded_text = contractions_pattern.sub(expand_match, text)\n",
    "    expanded_text = re.sub(\"'\", \"\", expanded_text)\n",
    "    return expanded_text\n",
    "\n",
    "\n",
    "sample_text = ( \"O senhor joão deixou de trabalhar na Sistemas LTDA para ficar o dia todo sem fazer nda,\" \n",
    "                \" só dorme e bebe um copo d'água a cada três horas\" )\n",
    "sample_text_wo_abbr_and_contr = expand_abbreviations_and_contractions(sample_text,MAP)\n",
    "print(\"\\nInput text: \", sample_text)\n",
    "print(\"\\n\\nOutput text: \", sample_text_wo_abbr_and_contr)"
   ]
  },
  {
   "cell_type": "code",
   "execution_count": null,
   "id": "003c6505-5819-4cd6-b9d9-ef102b1eb987",
   "metadata": {},
   "outputs": [],
   "source": []
  },
  {
   "cell_type": "code",
   "execution_count": null,
   "id": "8198e9ce-d84b-43a0-922b-fa04dd2aa2d2",
   "metadata": {},
   "outputs": [],
   "source": []
  }
 ],
 "metadata": {
  "kernelspec": {
   "display_name": "NLP",
   "language": "python",
   "name": "natural_language_processing"
  },
  "language_info": {
   "codemirror_mode": {
    "name": "ipython",
    "version": 3
   },
   "file_extension": ".py",
   "mimetype": "text/x-python",
   "name": "python",
   "nbconvert_exporter": "python",
   "pygments_lexer": "ipython3",
   "version": "3.10.12"
  }
 },
 "nbformat": 4,
 "nbformat_minor": 5
}
