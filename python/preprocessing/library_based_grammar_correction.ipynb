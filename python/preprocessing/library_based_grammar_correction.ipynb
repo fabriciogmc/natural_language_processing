{
 "cells": [
  {
   "cell_type": "code",
   "execution_count": 9,
   "id": "0f957332-3938-4676-ac5b-08d6a3a442f6",
   "metadata": {},
   "outputs": [
    {
     "name": "stdout",
     "output_type": "stream",
     "text": [
      "Corrected word:  None\n"
     ]
    }
   ],
   "source": [
    "# This example uses the pyspellchecker library to\n",
    "# perform simple spell checking (correcting misspelled words).\n",
    "#\n",
    "# Author: Fabrício Galende Marques de Carvalho\n",
    "\n",
    "from spellchecker import SpellChecker\n",
    "portuguese = SpellChecker(language='pt')  \n",
    "misspelled_word = \"abacachi\"\n",
    "corrected_word = portuguese.correction(misspelled_word)\n",
    "print(\"Corrected word: \", corrected_word)"
   ]
  },
  {
   "cell_type": "code",
   "execution_count": null,
   "id": "c0418589-474d-4b1a-bc3c-df5d59675273",
   "metadata": {},
   "outputs": [],
   "source": []
  }
 ],
 "metadata": {
  "kernelspec": {
   "display_name": "Python 3 (ipykernel)",
   "language": "python",
   "name": "python3"
  },
  "language_info": {
   "codemirror_mode": {
    "name": "ipython",
    "version": 3
   },
   "file_extension": ".py",
   "mimetype": "text/x-python",
   "name": "python",
   "nbconvert_exporter": "python",
   "pygments_lexer": "ipython3",
   "version": "3.12.3"
  }
 },
 "nbformat": 4,
 "nbformat_minor": 5
}
