{
 "cells": [
  {
   "cell_type": "code",
   "execution_count": 8,
   "id": "c77683a7-6b08-4052-8fe9-c0779f2c8f23",
   "metadata": {},
   "outputs": [
    {
     "name": "stdout",
     "output_type": "stream",
     "text": [
      "Original words:  ['passear', 'compramos', 'floradas', 'parecido', 'mercadinho', 'sapatos', 'dos']\n",
      "Stems outputs (snowball):  ['pass', 'compr', 'flor', 'parec', 'mercadinh', 'sapat', 'dos']\n",
      "Stems outputs (RSLP): ['pass', 'compr', 'flor', 'parec', 'merc', 'sapat', 'do']\n"
     ]
    }
   ],
   "source": [
    "# -*- coding: utf-8 -*-\n",
    "# A stemmer operates on a word by removing some of its characters \n",
    "# and reducing it to a root form that does not necessarily carry meaning. \n",
    "# A stemmed word typically has no affixes.\n",
    "#\n",
    "#Author: Fabrício Galende M. de Carvalho, PhD\n",
    "\n",
    "\n",
    "from nltk.stem import SnowballStemmer\n",
    "from nltk.stem import RSLPStemmer\n",
    "\n",
    "\n",
    "rslps_stemmer = RSLPStemmer()\n",
    "snowball_stemmer = SnowballStemmer(language='portuguese')\n",
    "\n",
    "sample_words = ['passear', 'compramos','floradas', 'parecido', \"mercadinho\", 'sapatos', 'dos'] # verbos, adjetivos, substantivos, locuções prepositivas\n",
    "\n",
    "sample_stems_snowball = [snowball_stemmer.stem(word) for word in sample_words]\n",
    "sample_stems_rslp = [rslps_stemmer.stem(word) for word in sample_words]\n",
    "\n",
    "print(\"Original words: \", sample_words) \n",
    "print(\"Stems outputs (snowball): \", sample_stems_snowball )\n",
    "print(\"Stems outputs (RSLP):\", sample_stems_rslp)\n",
    "\n",
    "\n",
    "\n"
   ]
  },
  {
   "cell_type": "code",
   "execution_count": null,
   "id": "5c993d1d-2a62-4a09-991a-e324cdb038f5",
   "metadata": {},
   "outputs": [],
   "source": []
  },
  {
   "cell_type": "code",
   "execution_count": null,
   "id": "5c21b8c2-42c0-40ea-9c72-8c68726629be",
   "metadata": {},
   "outputs": [],
   "source": []
  }
 ],
 "metadata": {
  "kernelspec": {
   "display_name": "Python 3 (ipykernel)",
   "language": "python",
   "name": "python3"
  },
  "language_info": {
   "codemirror_mode": {
    "name": "ipython",
    "version": 3
   },
   "file_extension": ".py",
   "mimetype": "text/x-python",
   "name": "python",
   "nbconvert_exporter": "python",
   "pygments_lexer": "ipython3",
   "version": "3.12.3"
  }
 },
 "nbformat": 4,
 "nbformat_minor": 5
}
