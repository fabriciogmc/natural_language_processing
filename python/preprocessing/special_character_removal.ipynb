{
 "cells": [
  {
   "cell_type": "code",
   "execution_count": 6,
   "id": "9f5a8286-d428-4ec4-a033-9fae8966dbd3",
   "metadata": {},
   "outputs": [
    {
     "name": "stdout",
     "output_type": "stream",
     "text": [
      "Original text (input):  Fabrício mostrou-se uma pessoa muito tranqüila durante a reunião!\n",
      "First level replacement:  Fabrício mostrou-se uma pessoa muito tranquila durante a reunião!\n",
      "Second level replacement:  Fabricio mostrou-se uma pessoa muito tranquila durante a reunião!\n"
     ]
    }
   ],
   "source": [
    "# In this example special characters that do not\n",
    "# carry any meaning are removed or replaced\n",
    "#\n",
    "# Author: Fabrício Galende Marques de Carvalho\n",
    "\n",
    "import re \n",
    "portuguese_sentence = \"Fabrício mostrou-se uma pessoa muito tranqüila durante a reunião!\"\n",
    "replacement_result_1 = re.sub(r'ü',\"u\",portuguese_sentence)\n",
    "replacement_result_2 = re.sub(r'í','i', replacement_result_1)\n",
    "print(\"Original text (input): \", portuguese_sentence)\n",
    "print(\"First level replacement: \", replacement_result_1)\n",
    "print(\"Second level replacement: \", replacement_result_2)"
   ]
  },
  {
   "cell_type": "code",
   "execution_count": null,
   "id": "5289494a-4806-4019-802c-00c06a925154",
   "metadata": {},
   "outputs": [],
   "source": []
  }
 ],
 "metadata": {
  "kernelspec": {
   "display_name": "NLP",
   "language": "python",
   "name": "natural_language_processing"
  },
  "language_info": {
   "codemirror_mode": {
    "name": "ipython",
    "version": 3
   },
   "file_extension": ".py",
   "mimetype": "text/x-python",
   "name": "python",
   "nbconvert_exporter": "python",
   "pygments_lexer": "ipython3",
   "version": "3.10.12"
  }
 },
 "nbformat": 4,
 "nbformat_minor": 5
}
