{
 "cells": [
  {
   "cell_type": "code",
   "execution_count": 1,
   "id": "f8f6b206-1b5c-4375-b3b3-1f962009583d",
   "metadata": {},
   "outputs": [
    {
     "name": "stdout",
     "output_type": "stream",
     "text": [
      "[[0.55681615 0.         0.         0.         0.         0.\n",
      "  0.         0.4622077  0.         0.         0.         0.\n",
      "  0.         0.         0.         0.69015927]\n",
      " [0.         0.         0.         0.         0.39847472 0.\n",
      "  0.49389914 0.33077001 0.         0.         0.         0.49389914\n",
      "  0.         0.         0.49389914 0.        ]\n",
      " [0.         0.         0.52064623 0.         0.         0.\n",
      "  0.         0.43218341 0.         0.52064623 0.         0.\n",
      "  0.         0.52064623 0.         0.        ]\n",
      " [0.44400208 0.55032913 0.         0.         0.44400208 0.\n",
      "  0.         0.         0.         0.         0.55032913 0.\n",
      "  0.         0.         0.         0.        ]\n",
      " [0.         0.         0.33067681 0.40986539 0.         0.40986539\n",
      "  0.         0.         0.40986539 0.33067681 0.         0.\n",
      "  0.40986539 0.33067681 0.         0.        ]]\n",
      "         0         1         2         3         4         5         6   \\\n",
      "0  0.556816  0.000000  0.000000  0.000000  0.000000  0.000000  0.000000   \n",
      "1  0.000000  0.000000  0.000000  0.000000  0.398475  0.000000  0.493899   \n",
      "2  0.000000  0.000000  0.520646  0.000000  0.000000  0.000000  0.000000   \n",
      "3  0.444002  0.550329  0.000000  0.000000  0.444002  0.000000  0.000000   \n",
      "4  0.000000  0.000000  0.330677  0.409865  0.000000  0.409865  0.000000   \n",
      "\n",
      "         7         8         9         10        11        12        13  \\\n",
      "0  0.462208  0.000000  0.000000  0.000000  0.000000  0.000000  0.000000   \n",
      "1  0.330770  0.000000  0.000000  0.000000  0.493899  0.000000  0.000000   \n",
      "2  0.432183  0.000000  0.520646  0.000000  0.000000  0.000000  0.520646   \n",
      "3  0.000000  0.000000  0.000000  0.550329  0.000000  0.000000  0.000000   \n",
      "4  0.000000  0.409865  0.330677  0.000000  0.000000  0.409865  0.330677   \n",
      "\n",
      "         14        15  \n",
      "0  0.000000  0.690159  \n",
      "1  0.493899  0.000000  \n",
      "2  0.000000  0.000000  \n",
      "3  0.000000  0.000000  \n",
      "4  0.000000  0.000000  \n"
     ]
    }
   ],
   "source": [
    "\"\"\"\n",
    "Basic hierarchical document clustering using\n",
    "agglomerative strategy.\n",
    "\n",
    "Author: Fabrício Galende M. de Carvalho, D.Sc.\n",
    "\"\"\"\n",
    "\n",
    "\n",
    "\n",
    "from  sklearn.feature_extraction.text import TfidfVectorizer\n",
    "\n",
    "from pandas import DataFrame\n",
    "\n",
    "documents = [\"O tempo está chuvoso\",\n",
    "             \"O dia está ensolarado sem nuvens\",\n",
    "             \"A comida está muito saborosa\",\n",
    "             \"Dia chuvoso na cidade\",\n",
    "             \"Gostei da comida do restaurante, muito saborosa\"]\n",
    "\n",
    "# First step is to build vector representation:\n",
    "\n",
    "tfidf_transformer = TfidfVectorizer(norm='l2', use_idf=True)\n",
    "documents_repr = tfidf_transformer.fit_transform(documents)\n",
    "documents_repr_df = DataFrame(data = documents_repr.toarray())\n",
    "print(documents_repr.toarray())\n",
    "print(documents_repr_df)\n"
   ]
  },
  {
   "cell_type": "code",
   "execution_count": 29,
   "id": "b74925a0-139e-47ed-a290-412e88b6bd3b",
   "metadata": {},
   "outputs": [
    {
     "name": "stdout",
     "output_type": "stream",
     "text": [
      "Linkage matrix\n",
      "   doc/cluster 1  doc/cluster 2  distance  cluster size\n",
      "0            2.0            4.0  0.983365           2.0\n",
      "1            0.0            3.0  1.227006           2.0\n",
      "2            1.0            6.0  1.313421           3.0\n",
      "3            5.0            7.0  1.628920           5.0\n",
      "\n",
      "\n"
     ]
    },
    {
     "data": {
      "image/png": "[encoded data removed]",
      "text/plain": [
       "<Figure size 640x480 with 1 Axes>"
      ]
     },
     "metadata": {},
     "output_type": "display_data"
    }
   ],
   "source": [
    "# Now we make the linkage. To do this, we need to establish linkage \n",
    "# using dense matrices.\n",
    "\n",
    "from scipy.cluster.hierarchy import linkage\n",
    "\n",
    "import matplotlib.pyplot as plt\n",
    "from scipy.cluster.hierarchy import dendrogram\n",
    "\n",
    "documents_repr_dense = documents_repr.toarray()\n",
    "\n",
    "linkage_matrix = linkage(documents_repr_dense, method='ward')\n",
    "linkage_matrix_df = DataFrame(data = linkage_matrix, columns=[\"doc/cluster 1\", \"doc/cluster 2\", \"distance\", \"cluster size\"])\n",
    "print(\"Linkage matrix\")\n",
    "print(linkage_matrix_df)\n",
    "print(\"\\n\")\n",
    "                              \n",
    "dendrogram(linkage_matrix, labels=[f\"doc_{i}\" for i in range(len(documents))])\n",
    "\n",
    "plt.title(\"Dendrogram using Ward method\")\n",
    "plt.xlabel(\"Documents\")\n",
    "plt.ylabel(\"Ward distances (linkage)\")\n",
    "plt.grid()\n",
    "plt.show()"
   ]
  },
  {
   "cell_type": "code",
   "execution_count": 21,
   "id": "73ef61fa-6734-4869-8b3c-c5b711d8a526",
   "metadata": {},
   "outputs": [
    {
     "name": "stdout",
     "output_type": "stream",
     "text": [
      "Distance between docs 2 and 0 (not grouped in the first iteration):  1.2651019722064019\n",
      "Distance between docs 2 and 4 (grouped in first iteration):  0.9833647225192614\n",
      "Distance between docs 0 and 3 (grouped in the second iteration):  1.2270064968508778\n"
     ]
    }
   ],
   "source": [
    "# Let's look at distance between some documents:\n",
    "import numpy as np\n",
    "\n",
    "distance_2_0 = np.linalg.norm(documents_repr_dense[2] - documents_repr_dense[0] )\n",
    "distance_2_4 = np.linalg.norm(documents_repr_dense[2] - documents_repr_dense[4] )\n",
    "distance_0_3 = np.linalg.norm(documents_repr_dense[0] - documents_repr_dense[3] )\n",
    "\n",
    "print(\"Distance between docs 2 and 0 (not grouped in the first iteration): \", distance_2_0) \n",
    "print(\"Distance between docs 2 and 4 (grouped in first iteration): \", distance_2_4) \n",
    "print(\"Distance between docs 0 and 3 (grouped in the second iteration): \", distance_0_3) \n",
    "\n"
   ]
  },
  {
   "cell_type": "code",
   "execution_count": 32,
   "id": "b6be7b44-a413-4bfc-aba4-6265264e65e8",
   "metadata": {},
   "outputs": [
    {
     "name": "stdout",
     "output_type": "stream",
     "text": [
      "                                          document  cluster\n",
      "2                     A comida está muito saborosa        1\n",
      "4  Gostei da comida do restaurante, muito saborosa        1\n",
      "1                 O dia está ensolarado sem nuvens        2\n",
      "0                             O tempo está chuvoso        2\n",
      "3                            Dia chuvoso na cidade        2\n",
      "\n",
      "\n",
      "                                          document  cluster\n",
      "2                     A comida está muito saborosa        1\n",
      "4  Gostei da comida do restaurante, muito saborosa        1\n"
     ]
    }
   ],
   "source": [
    "# Now let`s cut some clusters:\n",
    "from scipy.cluster.hierarchy import fcluster\n",
    "\n",
    "cluster_labels = fcluster(linkage_matrix, t=2, criterion='maxclust') #t is the maximum number of clusters when maxclust criterion is used\n",
    "cluster_df = DataFrame({\n",
    "    'document': documents,\n",
    "    'cluster': cluster_labels\n",
    "})\n",
    "print(cluster_df.sort_values('cluster'))\n",
    "print('\\n')\n",
    "\n",
    "\"Lets filter documents that belong to class 1: \"\n",
    "documents_class_1 = cluster_df[cluster_df['cluster'] == 1]\n",
    "print(documents_class_1)"
   ]
  },
  {
   "cell_type": "code",
   "execution_count": 35,
   "id": "4cf7808b-22ac-4712-bfa4-af812650af05",
   "metadata": {},
   "outputs": [
    {
     "name": "stdout",
     "output_type": "stream",
     "text": [
      "                                          document  cluster\n",
      "0                             O tempo está chuvoso        2\n",
      "1                 O dia está ensolarado sem nuvens        4\n",
      "2                     A comida está muito saborosa        1\n",
      "3                            Dia chuvoso na cidade        3\n",
      "4  Gostei da comida do restaurante, muito saborosa        1\n"
     ]
    }
   ],
   "source": [
    "# Now let's cut based upon distance:\n",
    "cluster_labels = fcluster(linkage_matrix, t=1.2, criterion='distance') #t is the maximum distance when distance criterion is used\n",
    "cluster_df = DataFrame({\n",
    "    'document': documents,\n",
    "    'cluster': cluster_labels\n",
    "})\n",
    "print(cluster_df)\n"
   ]
  },
  {
   "cell_type": "code",
   "execution_count": null,
   "id": "e24e8d28-7575-43c9-9497-90ef859b2214",
   "metadata": {},
   "outputs": [],
   "source": []
  }
 ],
 "metadata": {
  "kernelspec": {
   "display_name": "Python 3 (ipykernel)",
   "language": "python",
   "name": "python3"
  },
  "language_info": {
   "codemirror_mode": {
    "name": "ipython",
    "version": 3
   },
   "file_extension": ".py",
   "mimetype": "text/x-python",
   "name": "python",
   "nbconvert_exporter": "python",
   "pygments_lexer": "ipython3",
   "version": "3.10.12"
  }
 },
 "nbformat": 4,
 "nbformat_minor": 5
}
