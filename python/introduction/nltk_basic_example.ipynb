{
 "cells": [
  {
   "cell_type": "code",
   "execution_count": 11,
   "id": "4202b57c-24a7-4df0-b82a-cefe9a57440f",
   "metadata": {},
   "outputs": [
    {
     "name": "stdout",
     "output_type": "stream",
     "text": [
      "First sentence:  Em 2022 houve uma acirrada eleição entre Bolsonaro e Lula.\n",
      "Second sentence:  Ao final quem ganhou foi Lula.\n"
     ]
    }
   ],
   "source": [
    "# simple nltk example to exemplify toolkit methods\n",
    "# Before execution, you should install nltk library and \n",
    "# its dependencies.\n",
    "#\n",
    "# Author: Fabrício Galende M. de Carvalho\n",
    "\n",
    "\n",
    "import nltk\n",
    "import numpy as np\n",
    "\n",
    "\n",
    "document = \"Em 2022 houve uma acirrada eleição entre Bolsonaro e Lula. Ao final quem ganhou foi Lula.\" #in this case a paragraph.\n",
    "sentences = nltk.sent_tokenize(document)\n",
    "print(\"First sentence: \", sentences[0])\n",
    "print(\"Second sentence: \", sentences[1])\n"
   ]
  },
  {
   "cell_type": "code",
   "execution_count": 12,
   "id": "e90b438d-71c9-4ea9-b5b2-575001672d04",
   "metadata": {},
   "outputs": [
    {
     "name": "stdout",
     "output_type": "stream",
     "text": [
      "Words from the first sentence:  ['Em', '2022', 'houve', 'uma', 'acirrada', 'eleição', 'entre', 'Bolsonaro', 'e', 'Lula', '.']\n"
     ]
    }
   ],
   "source": [
    "# Now we split sentences in word tokens\n",
    "words_sentence_0 = nltk.tokenize.word_tokenize(sentences[0])\n",
    "print(\"Words from the first sentence: \", words_sentence_0)"
   ]
  },
  {
   "cell_type": "code",
   "execution_count": 14,
   "id": "6a835433-b8b5-4589-81d8-b9810ad6f4a9",
   "metadata": {},
   "outputs": [
    {
     "name": "stdout",
     "output_type": "stream",
     "text": [
      "showing info https://raw.githubusercontent.com/nltk/nltk_data/gh-pages/index.xml\n"
     ]
    },
    {
     "data": {
      "text/plain": [
       "True"
      ]
     },
     "execution_count": 14,
     "metadata": {},
     "output_type": "execute_result"
    }
   ],
   "source": [
    "# if we want to install some modules or text corpora, we call nltk.download\n",
    "nltk.download()"
   ]
  },
  {
   "cell_type": "code",
   "execution_count": null,
   "id": "1c767ef6-a13c-4c23-9399-779956bc6c87",
   "metadata": {},
   "outputs": [],
   "source": []
  }
 ],
 "metadata": {
  "kernelspec": {
   "display_name": "NLP",
   "language": "python",
   "name": "natural_language_processing"
  },
  "language_info": {
   "codemirror_mode": {
    "name": "ipython",
    "version": 3
   },
   "file_extension": ".py",
   "mimetype": "text/x-python",
   "name": "python",
   "nbconvert_exporter": "python",
   "pygments_lexer": "ipython3",
   "version": "3.10.12"
  }
 },
 "nbformat": 4,
 "nbformat_minor": 5
}
