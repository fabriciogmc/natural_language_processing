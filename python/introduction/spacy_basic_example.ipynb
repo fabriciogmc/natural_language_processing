{
 "cells": [
  {
   "cell_type": "code",
   "execution_count": 1,
   "id": "d2a4d980-8f92-4748-b7d6-139eb42dbfc6",
   "metadata": {},
   "outputs": [],
   "source": [
    "# simple spacy example to exemplify  library methods\n",
    "# Before execution, you should install spacy library properly \n",
    "# and also its dependencies.\n",
    "#\n",
    "# Portuguese model:\n",
    "# python -m spacy download pt_core_news_sm\n",
    "#\n",
    "# Author: Fabrício Galende M. de Carvalho\n",
    "\n",
    "import spacy\n",
    "\n",
    "# Here we load the portuguese model\n",
    "nlp = spacy.load('pt_core_news_sm')\n"
   ]
  },
  {
   "cell_type": "code",
   "execution_count": 16,
   "id": "d4f343dc-5999-4be0-89f8-85de392263ff",
   "metadata": {},
   "outputs": [
    {
     "name": "stdout",
     "output_type": "stream",
     "text": [
      "Sentence tokens contained in the document: \n",
      "##################################################\n",
      "Hoje é um excelente dia para aprender PLN.\n",
      "Meus resultados dependem da minha dedicação!\n",
      "##################################################\n",
      "\n",
      "\n",
      "Word tokens contained in the document: \n",
      "##################################################\n",
      "Word token: Hoje\n",
      "Word token: é\n",
      "Word token: um\n",
      "Word token: excelente\n",
      "Word token: dia\n",
      "Word token: para\n",
      "Word token: aprender\n",
      "Word token: PLN\n",
      "Word token: .\n",
      "Word token: Meus\n",
      "Word token: resultados\n",
      "Word token: dependem\n",
      "Word token: da\n",
      "Word token: minha\n",
      "Word token: dedicação\n",
      "Word token: !\n",
      "##################################################\n",
      "\n",
      "\n"
     ]
    }
   ],
   "source": [
    "# First we build a document object, which contains a list of word tokens and sentence tokens\n",
    "my_document = nlp(\"Hoje é um excelente dia para aprender PLN. Meus resultados dependem da minha dedicação!\")\n",
    "\n",
    "print(\"Sentence tokens contained in the document: \")\n",
    "print(\"##################################################\")\n",
    "for sentence in my_document.sents:\n",
    "    print(sentence.text)\n",
    "\n",
    "print(\"##################################################\\n\\n\")\n",
    "\n",
    "print(\"Word tokens contained in the document: \")\n",
    "print(\"##################################################\")\n",
    "for token in my_document:\n",
    "    print(\"Word token:\", token)\n",
    "print(\"##################################################\\n\\n\")"
   ]
  },
  {
   "cell_type": "code",
   "execution_count": 9,
   "id": "1ea530d1-80f5-4da6-9be7-1e9d1fc551dc",
   "metadata": {},
   "outputs": [
    {
     "name": "stdout",
     "output_type": "stream",
     "text": [
      "Token text:  Hoje\n",
      "Token lemma:  hoje\n",
      "Token POS TAG:  ADV\n",
      "Token text:  é\n",
      "Token lemma:  ser\n",
      "Token POS TAG:  AUX\n",
      "Token text:  um\n",
      "Token lemma:  um\n",
      "Token POS TAG:  DET\n",
      "Token text:  excelente\n",
      "Token lemma:  excelente\n",
      "Token POS TAG:  ADJ\n",
      "Token text:  dia\n",
      "Token lemma:  dia\n",
      "Token POS TAG:  NOUN\n",
      "Token text:  para\n",
      "Token lemma:  para\n",
      "Token POS TAG:  SCONJ\n",
      "Token text:  aprender\n",
      "Token lemma:  aprender\n",
      "Token POS TAG:  VERB\n",
      "Token text:  PLN\n",
      "Token lemma:  PLN\n",
      "Token POS TAG:  PROPN\n",
      "Token text:  .\n",
      "Token lemma:  .\n",
      "Token POS TAG:  PUNCT\n",
      "Token text:  Meus\n",
      "Token lemma:  meus\n",
      "Token POS TAG:  DET\n",
      "Token text:  resultados\n",
      "Token lemma:  resultado\n",
      "Token POS TAG:  NOUN\n",
      "Token text:  dependem\n",
      "Token lemma:  depender\n",
      "Token POS TAG:  VERB\n",
      "Token text:  da\n",
      "Token lemma:  de o\n",
      "Token POS TAG:  ADP\n",
      "Token text:  minha\n",
      "Token lemma:  meu\n",
      "Token POS TAG:  DET\n",
      "Token text:  dedicação\n",
      "Token lemma:  dedicação\n",
      "Token POS TAG:  NOUN\n",
      "Token text:  !\n",
      "Token lemma:  !\n",
      "Token POS TAG:  PUNCT\n"
     ]
    }
   ],
   "source": [
    "# Now we can access token properties\n",
    "for token in my_document:\n",
    "    print(\"Token text: \", token.text)\n",
    "    print(\"Token lemma: \", token.lemma_)\n",
    "    print(\"Token POS TAG: \", token.pos_)  "
   ]
  },
  {
   "cell_type": "code",
   "execution_count": null,
   "id": "0e4a3e4a-5bbb-49f4-aae5-e5bf7f67ee9e",
   "metadata": {},
   "outputs": [],
   "source": []
  }
 ],
 "metadata": {
  "kernelspec": {
   "display_name": "NLP",
   "language": "python",
   "name": "natural_language_processing"
  },
  "language_info": {
   "codemirror_mode": {
    "name": "ipython",
    "version": 3
   },
   "file_extension": ".py",
   "mimetype": "text/x-python",
   "name": "python",
   "nbconvert_exporter": "python",
   "pygments_lexer": "ipython3",
   "version": "3.10.12"
  }
 },
 "nbformat": 4,
 "nbformat_minor": 5
}
